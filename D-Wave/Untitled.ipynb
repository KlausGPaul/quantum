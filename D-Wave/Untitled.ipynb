{
 "cells": [
  {
   "cell_type": "code",
   "execution_count": null,
   "metadata": {},
   "outputs": [],
   "source": [
    "from dwave.system.samplers import DWaveSampler\n",
    "from dwave.embedding import embed_ising, unembed_sampleset\n",
    "from minorminer import find_embedding\n",
    "from dimod import as_bqm\n",
    "\n",
    "edp = 'https://cloud.dwavesys.com/sapi'\n",
    "tkn = 'ABC-ihrtoken'\n",
    "slv = 'DW_2000Q_5'\n",
    "# Verfügbare Solver lassen sich per \"Client(edp, tkn).get_solvers()\" abfragen.\n",
    "# Vorher ist ein \"from dwave.cloud import Client\" nötig.\n",
    "\n",
    "\n",
    "# Verbindung aufbauen\n",
    "sampler = DWaveSampler(endpoint = edp, token = tkn, solver = slv)\n",
    "\n",
    "\n",
    "# Problembeschreibung\n",
    "h = [0, 0, 0, 0]\n",
    "J = {\n",
    "    (0,1): 1,\n",
    "    (1,3): 1,\n",
    "    (3,2): 1,\n",
    "    (2,0): 1\n",
    "}\n",
    "\n",
    "\n",
    "# Embedding finden\n",
    "emb = find_embedding(J.keys(), sampler.edgelist) # Alternativ lässt sich das\n",
    "    # Embedding (bei diesem Mini-Problem) auch von Hand definieren:\n",
    "    # \"emb = {0: [0], 1: [4], 2: [7], 3: [3]}\"\n",
    "\n",
    "print(\"EMBEDDING:\")\n",
    "print(emb)\n",
    "\n",
    "\n",
    "# Problem einbetten\n",
    "adj = sampler.adjacency # sampler.adjacency enthält die gleichen Informationen\n",
    "    # wie sampler.edgelist, lediglich anders strukturiert, vgl.\n",
    "    # https://docs.ocean.dwavesys.com/projects/system/en/latest/reference/\n",
    "    # samplers.html#properties und\n",
    "    # https://github.com/dwavesystems/dimod/blob/master/dimod/core/\n",
    "    # structured.py#L103\n",
    "th, tJ = embed_ising(h, J, emb, adj)\n",
    "\n",
    "\n",
    "# Problem lösen\n",
    "raw = sampler.sample_ising(th, tJ, num_reads = 100)\n",
    "\n",
    "print(\"\\nRAW RESULTS:\")\n",
    "print(raw)\n",
    "\n",
    "\n",
    "# Einbettung rückgängig machen\n",
    "res = unembed_sampleset(raw, emb, as_bqm(h, J, raw.vartype))\n",
    "\n",
    "print(\"\\nRESULTS:\")\n",
    "print(res)\n"
   ]
  }
 ],
 "metadata": {
  "kernelspec": {
   "display_name": "Quantum Computing",
   "language": "python",
   "name": "quantum"
  },
  "language_info": {
   "codemirror_mode": {
    "name": "ipython",
    "version": 3
   },
   "file_extension": ".py",
   "mimetype": "text/x-python",
   "name": "python",
   "nbconvert_exporter": "python",
   "pygments_lexer": "ipython3",
   "version": "3.8.5"
  },
  "widgets": {
   "application/vnd.jupyter.widget-state+json": {
    "state": {},
    "version_major": 2,
    "version_minor": 0
   }
  }
 },
 "nbformat": 4,
 "nbformat_minor": 4
}
